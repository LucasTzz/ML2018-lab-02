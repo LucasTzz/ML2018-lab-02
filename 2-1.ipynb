{
 "cells": [
  {
   "cell_type": "code",
   "execution_count": 1,
   "metadata": {},
   "outputs": [],
   "source": [
    "from sklearn.datasets import load_svmlight_file\n",
    "from io import BytesIO\n",
    "import numpy\n",
    "from sklearn.model_selection import train_test_split\n",
    "import matplotlib.pyplot as plt\n",
    "from sklearn.metrics import classification_report\n",
    "import matplotlib.pyplot as plt"
   ]
  },
  {
   "cell_type": "code",
   "execution_count": 3,
   "metadata": {},
   "outputs": [],
   "source": [
    "# load training set and testing set\n",
    "X_train, y_train = load_svmlight_file(\"/Users/taozizhuo/Machine Learning/a9a_train\", n_features=123)\n",
    "X_val, y_val = load_svmlight_file(\"/Users/taozizhuo/Machine Learning/a9a.t\", n_features=123)"
   ]
  },
  {
   "cell_type": "code",
   "execution_count": 4,
   "metadata": {},
   "outputs": [],
   "source": [
    "# preprocess\n",
    "X_train = X_train.toarray()\n",
    "X_val = X_val.toarray()\n",
    "n_samples_train, n_features_train = X_train.shape\n",
    "n_samples_val, n_features_val = X_val.shape\n",
    "X_train = numpy.column_stack((X_train, numpy.ones((n_samples_train, 1))))\n",
    "X_val = numpy.column_stack((X_val, numpy.ones((n_samples_val, 1))))\n",
    "y_train = y_train.reshape((-1, 1))\n",
    "y_val = y_val.reshape((-1, 1))\n",
    "y_train = numpy.where(y_train < 0, 0, 1) # convert {-1,1} to {0,1}\n",
    "y_val = numpy.where(y_val < 0, 0, 1)"
   ]
  },
  {
   "cell_type": "code",
   "execution_count": 5,
   "metadata": {},
   "outputs": [],
   "source": [
    "# initialize the parameters\n",
    "max_epoch = 200\n",
    "learning_rate = 0.005\n",
    "batch_size = 100\n",
    "# initialize w with random numbers\n",
    "w = numpy.random.random((n_features_train + 1, 1))\n",
    "\n",
    "losses_train = []\n",
    "losses_val = []"
   ]
  },
  {
   "cell_type": "code",
   "execution_count": 6,
   "metadata": {},
   "outputs": [],
   "source": [
    "# calculate probablity\n",
    "def h(x):\n",
    "    return 1/(1+numpy.exp(-w.transpose().dot(x.transpose())))\n",
    "\n",
    "\n",
    "# extract a random batch\n",
    "random_index = numpy.random.choice(n_samples_train, batch_size, replace=False)\n",
    "X_train_batch = X_train[random_index, :]\n",
    "y_train_batch = y_train[random_index, :]"
   ]
  },
  {
   "cell_type": "code",
   "execution_count": 7,
   "metadata": {},
   "outputs": [
    {
     "name": "stdout",
     "output_type": "stream",
     "text": [
      "[0.7414414]\n"
     ]
    }
   ],
   "source": [
    "# train\n",
    "for epoch in range(max_epoch):\n",
    "\n",
    "    G = (h(X_train_batch)-y_train_batch).dot(X_train_batch) # calculate the gradient\n",
    "    w -= learning_rate * numpy.average(G) # update w\n",
    "\n",
    "    y_predict_train = numpy.where(h(X_train) > 0.5, 1, 0) # set a threshold of 0.5\n",
    "    loss_train_sum = 0\n",
    "    for i in range(0, n_samples_train): # loss function on training set\n",
    "        loss_train_sum += y_train[i]*numpy.log(h(X_train[i]))+(1-y_train[i])*numpy.log(1-h(X_train[i]))\n",
    "    loss_train = -loss_train_sum/X_train.shape[0]\n",
    "    losses_train.append(loss_train)\n",
    "\n",
    "    loss_val_sum = 0\n",
    "    y_predict_val = numpy.where(h(X_val) > 0.5, 1, 0)\n",
    "    for i in range(0, n_samples_val): # loss function on validation set\n",
    "        loss_val_sum += y_val[i]*numpy.log(h(X_val[i]))+(1-y_val[i])*numpy.log(1-h(X_val[i]))\n",
    "    Lvalidation = -loss_val_sum/X_val.shape[0]\n",
    "    losses_val.append(Lvalidation)\n",
    "\n",
    "print(Lvalidation)"
   ]
  },
  {
   "cell_type": "code",
   "execution_count": 8,
   "metadata": {},
   "outputs": [
    {
     "data": {
      "image/png": "[encoded data removed]",
      "text/plain": [
       "<Figure size 1296x432 with 1 Axes>"
      ]
     },
     "metadata": {
      "needs_background": "light"
     },
     "output_type": "display_data"
    }
   ],
   "source": [
    "# show in graph\n",
    "plt.figure(figsize=(18, 6))\n",
    "# plt.plot(losses_train, color=\"r\", label=\"train\")\n",
    "plt.plot(losses_val, color=\"b\", label=\"validation\")\n",
    "plt.legend()\n",
    "plt.xlabel(\"epoch\")\n",
    "plt.ylabel(\"loss\")\n",
    "plt.title(\"The graph of loss value varing with the number of iterations\")\n",
    "plt.show()"
   ]
  },
  {
   "cell_type": "code",
   "execution_count": null,
   "metadata": {},
   "outputs": [],
   "source": []
  }
 ],
 "metadata": {
  "kernelspec": {
   "display_name": "Python 3",
   "language": "python",
   "name": "python3"
  },
  "language_info": {
   "codemirror_mode": {
    "name": "ipython",
    "version": 3
   },
   "file_extension": ".py",
   "mimetype": "text/x-python",
   "name": "python",
   "nbconvert_exporter": "python",
   "pygments_lexer": "ipython3",
   "version": "3.6.4"
  }
 },
 "nbformat": 4,
 "nbformat_minor": 1
}
